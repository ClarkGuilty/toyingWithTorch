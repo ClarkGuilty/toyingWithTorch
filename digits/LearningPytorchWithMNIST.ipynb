{
 "cells": [
  {
   "cell_type": "code",
   "execution_count": 1,
   "metadata": {},
   "outputs": [],
   "source": [
    "import torch\n",
    "import torch.autograd as autograd         # computation graph\n",
    "from torch import Tensor# tensor node in the computation graph\n",
    "import torch.nn as nn                     # neural networks\n",
    "import torch.nn.functional as F           # l]ayers, activations and more\n",
    "import torch.optim as optim               # optimizers e.g. gradient descent, ADAM, etc.\n",
    "from torch.utils.data import DataLoader\n",
    "from torch.autograd import Variable\n",
    "\n",
    "import pandas as pd\n",
    "import numpy as np\n",
    "import matplotlib.pyplot as plt\n",
    "from my_funcs import * "
   ]
  },
  {
   "cell_type": "code",
   "execution_count": 2,
   "metadata": {},
   "outputs": [
    {
     "data": {
      "text/plain": [
       "(42000, 785)"
      ]
     },
     "execution_count": 2,
     "metadata": {},
     "output_type": "execute_result"
    }
   ],
   "source": [
    "#Load data\n",
    "trainD = pd.read_csv('digit-recognizer/train.csv')\n",
    "#testD = pd.read_csv('digit-recognizer/test.csv')\n",
    "#sampleD = pd.read_csv('digit-recognizer/sample_submission.csv')\n",
    "trainD.shape"
   ]
  },
  {
   "cell_type": "code",
   "execution_count": 3,
   "metadata": {},
   "outputs": [],
   "source": [
    "y_train = trainD['label']\n",
    "X_train = trainD.drop(['label'],1,inplace=False).values/255"
   ]
  },
  {
   "cell_type": "code",
   "execution_count": 11,
   "metadata": {},
   "outputs": [
    {
     "name": "stdout",
     "output_type": "stream",
     "text": [
      "True\n"
     ]
    }
   ],
   "source": [
    "print(torch.cuda.is_available())\n",
    "device = torch.device('cuda')     # Default CUDA device"
   ]
  },
  {
   "cell_type": "code",
   "execution_count": 45,
   "metadata": {},
   "outputs": [
    {
     "name": "stdout",
     "output_type": "stream",
     "text": [
      "The length of test data is 8400\n",
      "The number of epochs is 125\n"
     ]
    }
   ],
   "source": [
    "from sklearn.model_selection import train_test_split\n",
    "testSize = 1.0/5\n",
    "featuresTrain, featuresTest, targetsTrain, targetsTest = train_test_split(X_train, y_train.values, test_size=testSize, random_state=42)\n",
    "testLen = len(targetsTest)\n",
    "print(\"The length of test data is {}\".format(testLen))\n",
    "\n",
    "\n",
    "featuresTrain = torch.from_numpy(featuresTrain).type(torch.float32)\n",
    "#featuresTrain = featuresTrain.to(device) #not sure if it is better memory managment to do so BEFORE the dataloader\n",
    "\n",
    "featuresTest = torch.from_numpy(featuresTest).type(torch.float32)\n",
    "#featuresTest = featuresTest.to(device)\n",
    "\n",
    "targetsTrain = torch.from_numpy(targetsTrain).type(torch.LongTensor)\n",
    "#targetsTrain = targetsTrain.to(device)\n",
    "\n",
    "targetsTest = torch.from_numpy(targetsTest).type(torch.LongTensor)\n",
    "#targetsTest = targetsTest.to(device)\n",
    "\n",
    "featuresSize = 28*28\n",
    "targetsSize = 10\n",
    "\n",
    "# batch_size, epoch and iteration\n",
    "batch_size = 420\n",
    "n_iters = 10000\n",
    "num_epochs = n_iters / (len(featuresTrain) / batch_size)\n",
    "num_epochs = int(num_epochs)\n",
    "print(\"The number of epochs is {}\".format(num_epochs))\n",
    "\n",
    "train = torch.utils.data.TensorDataset(featuresTrain,targetsTrain)\n",
    "test = torch.utils.data.TensorDataset(featuresTest,targetsTest)\n",
    "\n",
    "train_loader = DataLoader(train, batch_size = batch_size, shuffle = False)\n",
    "test_loader = DataLoader(test, batch_size = batch_size, shuffle = False)"
   ]
  },
  {
   "cell_type": "code",
   "execution_count": 50,
   "metadata": {},
   "outputs": [
    {
     "name": "stdout",
     "output_type": "stream",
     "text": [
      "8400\n",
      "[[1, 2, 3, 5, 7], [1, 4, 1, 2, 1]]\n",
      "[   1    2    3    4    5    6    7    8   10   12   14   15   16   20\n",
      "   21   24   25   28   30   35   40   42   48   50   56   60   70   75\n",
      "   80   84  100  105  112  120  140  150  168  175  200  210  240  280\n",
      "  300  336  350  400  420  525  560  600  700  840 1050 1200 1400 1680\n",
      " 2100 2800 4200 8400]\n"
     ]
    }
   ],
   "source": [
    "#divisors = div(40768/784)\n",
    "number = testSize*42000\n",
    "print(int(number))\n",
    "divisors = div(number)\n",
    "prime_Divisors = pDiv(number)\n",
    "print(prime_Divisors)\n",
    "print(np.sort(divisors))\n"
   ]
  },
  {
   "cell_type": "code",
   "execution_count": 4,
   "metadata": {},
   "outputs": [],
   "source": [
    "# Create convolutional network Model\n",
    "class conVolNN(nn.Module):\n",
    "        \n",
    "    def __init__(self, hidden_layer, output_dim):\n",
    "        super(conVolNN, self).__init__()\n",
    "        # First convolutional layer: \n",
    "        self.conv1 = nn.Conv2d(in_channels= 1, out_channels = hidden_layer[0], kernel_size = 3, stride = 1,padding=1)\n",
    "        self.ac1 = nn.ReLU() \n",
    "        self.conv11 = nn.Conv2d(in_channels= hidden_layer[0], out_channels = hidden_layer[0], kernel_size = 3, stride = 1, padding = 1)\n",
    "        self.ac11 = nn.ReLU() \n",
    "        #self.conv12 = nn.Conv2d(in_channels= hidden_layer[0], out_channels = hidden_layer[0], kernel_size = 3, stride = 1)\n",
    "        #self.ac12 = nn.ReLU() \n",
    "        self.pool1 = nn.MaxPool2d(kernel_size=2) #(N,hidden_layer[0],28,28) to (N,hidden_layer[0],14,14)\n",
    "        #self.drop1 = nn.Dropout2d(p = 0.1)\n",
    "        \n",
    "        # Second convolutional layer:\n",
    "        self.conv2 = nn.Conv2d(in_channels= hidden_layer[0], out_channels = hidden_layer[1], kernel_size = 5, stride = 1, padding = 2)                                                \n",
    "        self.ac2 = nn.ReLU()\n",
    "        self.conv21 = nn.Conv2d(in_channels= hidden_layer[1], out_channels = hidden_layer[1], kernel_size = 5, stride = 1, padding = 2)\n",
    "        self.ac21 = nn.ReLU()\n",
    "        self.pool2 = nn.MaxPool2d(kernel_size=2) #(N,hidden_layer[1],14,14) to (N,hidden_layer[1],7,7)\n",
    "        #self.drop2 = nn.Dropout2d(p = 0.2)\n",
    "        \n",
    "        # Third convolutional layer:\n",
    "        self.conv3 = nn.Conv2d(in_channels= hidden_layer[1], out_channels = hidden_layer[2], kernel_size = 7, stride = 1, padding = 3)                                                \n",
    "        self.ac3 = nn.ReLU()\n",
    "        self.conv31 = nn.Conv2d(in_channels= hidden_layer[2], out_channels = hidden_layer[2], kernel_size = 7, stride = 1, padding = 3)\n",
    "        self.ac31 = nn.ReLU()\n",
    "        self.pool3 = nn.MaxPool2d(kernel_size=3,stride = 3) #(N,hidden_layer[2],7,7) to (N,hidden_layer[2],2,2)\n",
    "                                \n",
    "        # Forth convolutional layer:\n",
    "        self.conv4 = nn.Conv2d(in_channels= hidden_layer[2], out_channels = hidden_layer[3], kernel_size = 7, stride = 1, padding = 3)\n",
    "        self.batch4 = nn.BatchNorm2d(hidden_layer[3])\n",
    "        self.ac4 = nn.ReLU()#(N,hidden_layer[0],5,5) to (N,hidden_layer[1],4,4)\n",
    "        #self.pool3 = nn.MaxPool2d(kernel_size=2) #(N,hidden_layer[0],4,4) to (N,hidden_layer[0],2,2)\n",
    "        \n",
    "        #Final Layers\n",
    "        self.f5 = nn.Linear(hidden_layer[3]*2*2,hidden_layer[3])\n",
    "        self.ac5 = nn.ReLU()\n",
    "        self.drop5 = nn.Dropout2d(p = 0.5)\n",
    "        self.f51 = nn.Linear(hidden_layer[3],hidden_layer[4])\n",
    "        self.ac51 = nn.ReLU()\n",
    "        self.drop51 = nn.Dropout2d(p = 0.5)\n",
    "        self.f52 = nn.Linear(hidden_layer[4],output_dim)\n",
    "        \n",
    "        \n",
    "        \n",
    "    \n",
    "    def forward(self, x):\n",
    "        out = self.conv1(x)\n",
    "        out = self.ac1(out)\n",
    "        #print(out.shape)\n",
    "        out = self.conv11(out)\n",
    "        out = self.ac11(out)\n",
    "        #print(out.shape)\n",
    "        out = self.pool1(out)\n",
    "        #print(out.shape)\n",
    "        \n",
    "        out = self.conv2(out)\n",
    "        out = self.ac2(out)\n",
    "        #print(out.shape)\n",
    "        out = self.conv21(out)\n",
    "        out = self.ac21(out)\n",
    "       # print(out.shape)\n",
    "        out = self.pool2(out)\n",
    "        #print(out.shape)\n",
    "        \n",
    "        out = self.conv3(out)\n",
    "        out = self.ac3(out)\n",
    "        #print(out.shape)\n",
    "        out = self.conv31(out)\n",
    "        out = self.ac31(out)\n",
    "        #print(out.shape)\n",
    "        out = self.pool3(out)\n",
    "        #print(out.shape)\n",
    "                                \n",
    "        out = self.conv4(out)\n",
    "        #print(out.shape)\n",
    "        out = self.batch4(out)\n",
    "        out = self.ac4(out)\n",
    "        #\n",
    "        #print(out.shape)\n",
    "        \n",
    "        out = out.view(out.size(0),-1) # Don't forget to flatten before the final linear transformation.\n",
    "        out = self.f5(out) #The logistic transformation is on the loss function.\n",
    "        out = self.ac5(out)\n",
    "        out = self.drop5(out)\n",
    "        out = self.f51(out) #The logistic transformation is on the loss function.\n",
    "        out = self.ac51(out)\n",
    "        out = self.drop51(out)\n",
    "        out = self.f52(out) #The logistic transformation is on the loss function.\n",
    "        return out\n",
    "    \n"
   ]
  },
  {
   "cell_type": "code",
   "execution_count": null,
   "metadata": {},
   "outputs": [],
   "source": [
    "# Create ANN\n",
    "model = conVolNN([32,64,128,256,100],targetsSize)\n",
    "\n",
    "# Cross Entropy Loss \n",
    "error = nn.CrossEntropyLoss()\n",
    "\n",
    "# SGD Optimizer\n",
    "learning_rate = 0.1\n",
    "optimizer = torch.optim.SGD(model.parameters(), lr=learning_rate)\n",
    "#scheduler = torch.optim.lr_scheduler.MultiStepLR(optimizer, milestones=[80,25,37,50], gamma=0.75)\n",
    "#scheduler = torch.optim.lr_scheduler.StepLR(optimizer, step_size=80, gamma=0.5)\n",
    "scheduler = torch.optim.lr_scheduler.ReduceLROnPlateau(optimizer, mode='max', factor=0.75, patience=8, \n",
    "                                             verbose=True, threshold=0.00001, threshold_mode='rel',\n",
    "                                             cooldown=1, min_lr=1e-8, eps=1e-08)\n",
    "\n",
    "count = 0\n",
    "loss_list = []\n",
    "iteration_list = []\n",
    "accuracy_list = []"
   ]
  },
  {
   "cell_type": "code",
   "execution_count": 54,
   "metadata": {
    "scrolled": false
   },
   "outputs": [
    {
     "name": "stdout",
     "output_type": "stream",
     "text": [
      "0\n",
      "5\n",
      "10\n",
      "15\n",
      "Iteration: 1501  Loss: 0.0016306252218782902  Accuracy: 98.92857142857143 %\n",
      "20\n",
      "25\n",
      "30\n",
      "Epoch    32: reducing learning rate of group 0 to 7.5000e-02.\n",
      "35\n",
      "Iteration: 3001  Loss: 0.001410776050761342  Accuracy: 99.08333333333333 %\n",
      "40\n",
      "Epoch    42: reducing learning rate of group 0 to 5.6250e-02.\n",
      "45\n",
      "50\n",
      "55\n",
      "Iteration: 4501  Loss: 0.0006137870368547738  Accuracy: 99.11904761904762 %\n",
      "Epoch    58: reducing learning rate of group 0 to 4.2188e-02.\n",
      "60\n",
      "65\n",
      "70\n",
      "Iteration: 6001  Loss: 0.0003254776820540428  Accuracy: 99.14285714285714 %\n",
      "Epoch    74: reducing learning rate of group 0 to 3.1641e-02.\n",
      "75\n",
      "80\n",
      "Epoch    84: reducing learning rate of group 0 to 2.3730e-02.\n",
      "85\n",
      "90\n",
      "Iteration: 7501  Loss: 0.001543909078463912  Accuracy: 99.08333333333333 %\n",
      "95\n",
      "100\n",
      "Epoch   101: reducing learning rate of group 0 to 1.7798e-02.\n",
      "105\n",
      "110\n",
      "Epoch   111: reducing learning rate of group 0 to 1.3348e-02.\n",
      "Iteration: 9001  Loss: 0.0009369214531034231  Accuracy: 99.10714285714286 %\n",
      "115\n",
      "120\n",
      "Epoch   121: reducing learning rate of group 0 to 1.0011e-02.\n",
      "99.14730639730638 0.053336045832904404\n"
     ]
    }
   ],
   "source": [
    "#%%time\n",
    "# CNN model training\n",
    "model.to(device)\n",
    "with torch.cuda.device(0):\n",
    "    for epoch in range(num_epochs):\n",
    "        if(epoch % 5==0): print(epoch)\n",
    "        for i, (images, labels) in enumerate(train_loader):\n",
    "            images = images.to(device)\n",
    "            labels = labels.to(device)\n",
    "            \n",
    "            train = Variable(images.view(batch_size,1,28,28))\n",
    "            labels = Variable(labels)\n",
    "\n",
    "            # Clear gradients\n",
    "            optimizer.zero_grad()\n",
    "\n",
    "            # Forward propagation\n",
    "            outputs = model(train)\n",
    "\n",
    "            # Calculate softmax and ross entropy loss\n",
    "            loss = error(outputs, labels)\n",
    "\n",
    "            # Calculating gradients\n",
    "            loss.backward()\n",
    "\n",
    "            # Update parameters\n",
    "            \n",
    "            optimizer.step()\n",
    "            count += 1\n",
    "            if count % 60 == 0:\n",
    "                # Calculate Accuracy         \n",
    "                correct = 0\n",
    "                total = 0\n",
    "                # Iterate through test dataset\n",
    "                for images, labels in test_loader:\n",
    "\n",
    "                    images = images.to(device)\n",
    "                    labels = labels.to(device)\n",
    "                    test = Variable(images.view(batch_size,1,28,28))\n",
    "\n",
    "                    # Forward propagation\n",
    "                    outputs = model(test)\n",
    "\n",
    "                    # Get predictions from the maximum value\n",
    "                    predicted = torch.max(outputs.data, 1)[1]\n",
    "\n",
    "                    # Total number of labels\n",
    "                    total += len(labels)\n",
    "\n",
    "                    correct += (predicted == labels).sum()\n",
    "\n",
    "                accuracy = 100 * float(correct) / float(total)\n",
    "\n",
    "                # store loss and iteration\n",
    "                loss_list.append(loss.data)\n",
    "                iteration_list.append(count)\n",
    "                accuracy_list.append(accuracy)\n",
    "                if (count) % 500 == 0:\n",
    "                    # Print Loss\n",
    "                    print('Iteration: {}  Loss: {}  Accuracy: {} %'.format(count+1, loss.item(), accuracy))\n",
    "\n",
    "        scheduler.step(accuracy)                 \n",
    "print(np.mean(accuracy_list[len(accuracy_list)+1-int(n_iters/100):]), np.std(accuracy_list[len(accuracy_list)+1-int(n_iters/100):]))"
   ]
  },
  {
   "cell_type": "code",
   "execution_count": 8,
   "metadata": {},
   "outputs": [],
   "source": [
    "testD = pd.read_csv('digit-recognizer/test.csv')\n",
    "X_test = testD.values/255\n",
    "\n",
    "\n",
    "X_test = torch.from_numpy(X_test).type(torch.float32)"
   ]
  },
  {
   "cell_type": "code",
   "execution_count": 9,
   "metadata": {},
   "outputs": [],
   "source": [
    "len(X_test)\n",
    "# batch_size, epoch and iteration\n",
    "batch_size = 500"
   ]
  },
  {
   "cell_type": "code",
   "execution_count": 15,
   "metadata": {},
   "outputs": [],
   "source": [
    "\n",
    "#print(\"The number of epochs is {}\".format(num_epochs))\n",
    "submission_file = open('submission_file.txt',\"w+\") \n",
    "submission_file.write(\"ImageId,Label\\n\")\n",
    "test = torch.utils.data.TensorDataset(X_test)\n",
    "\n",
    "test_loader = DataLoader(test, batch_size = batch_size, shuffle = False)\n",
    "loaded_model.to(device)\n",
    "id = 1\n",
    "with torch.cuda.device(0):\n",
    "    for i, images in enumerate(test_loader):\n",
    "            #print(images)\n",
    "            to_Test = Variable(images[0].view(batch_size,1,28,28))\n",
    "            to_Test = to_Test.to(device)\n",
    "            # Forward propagation\n",
    "            outputs = loaded_model(to_Test)\n",
    "            # Get predictions from the maximum value\n",
    "            predicted = torch.max(outputs.data, 1)[1]\n",
    "            for prediction in predicted:\n",
    "                #print(id,prediction.item())\n",
    "                submission_file.write(\"{},{}\\n\".format(id,prediction.item()))\n",
    "                id+=1\n",
    "                \n",
    "                \n",
    "                \n",
    "submission_file.close() "
   ]
  },
  {
   "cell_type": "code",
   "execution_count": 80,
   "metadata": {},
   "outputs": [
    {
     "data": {
      "text/plain": [
       "28000"
      ]
     },
     "execution_count": 80,
     "metadata": {},
     "output_type": "execute_result"
    }
   ],
   "source": [
    "500*56"
   ]
  },
  {
   "cell_type": "code",
   "execution_count": 58,
   "metadata": {
    "scrolled": false
   },
   "outputs": [
    {
     "name": "stdout",
     "output_type": "stream",
     "text": [
      "Epoch, median, std\n",
      "41 99.11309523809524 3.826244463098002\n",
      "83 99.14285714285714 0.10020948579392941\n",
      "125 99.1547619047619 0.05569926228199614\n"
     ]
    },
    {
     "data": {
      "image/png": "[encoded data removed]",
      "text/plain": [
       "<Figure size 432x288 with 1 Axes>"
      ]
     },
     "metadata": {
      "needs_background": "light"
     },
     "output_type": "display_data"
    }
   ],
   "source": [
    "plt.plot(iteration_list,accuracy_list)\n",
    "plt.ylim(97.5,99.7)\n",
    "avgSec(accuracy_list)"
   ]
  },
  {
   "cell_type": "code",
   "execution_count": 6,
   "metadata": {},
   "outputs": [
    {
     "data": {
      "text/plain": [
       "IncompatibleKeys(missing_keys=[], unexpected_keys=[])"
      ]
     },
     "execution_count": 6,
     "metadata": {},
     "output_type": "execute_result"
    }
   ],
   "source": [
    "PATH = \"./candidate_Model\"\n",
    "#torch.save(model.state_dict(), \"./candidate_Model\")\n",
    "loaded_model = conVolNN([32,64,128,256,100],10)\n",
    "loaded_model.load_state_dict(torch.load(PATH))"
   ]
  },
  {
   "cell_type": "code",
   "execution_count": 27,
   "metadata": {},
   "outputs": [
    {
     "data": {
      "text/plain": [
       "33600"
      ]
     },
     "execution_count": 27,
     "metadata": {},
     "output_type": "execute_result"
    }
   ],
   "source": [
    "len(train_loader)\n",
    "len(featuresTrain)"
   ]
  },
  {
   "cell_type": "code",
   "execution_count": 57,
   "metadata": {},
   "outputs": [],
   "source": [
    "\n",
    "#Helper function to calculate the average accuracy of the last training run.\n",
    "def avgSec(array):\n",
    "        distance = 60\n",
    "        print(\"Epoch, median, std\")\n",
    "        for i in range(0,int(count/2/distance),int(n_iters/4/distance)):\n",
    "            print(int(num_epochs/3*(i/int(n_iters/distance/4)+1)), np.median(accuracy_list[i:i+n_iters]),np.std(accuracy_list[i:i+n_iters]))\n",
    "            \n",
    "#avgSec(accuracy_list)\n"
   ]
  },
  {
   "cell_type": "code",
   "execution_count": 29,
   "metadata": {},
   "outputs": [],
   "source": [
    "# Create convolutional network Model\n",
    "class conVolNN(nn.Module):\n",
    "        \n",
    "    def __init__(self, hidden_layer, output_dim):\n",
    "        super(conVolNN, self).__init__()\n",
    "        # First convolutional layer: \n",
    "        self.conv1 = nn.Conv2d(in_channels= 1, out_channels = hidden_layer[0], kernel_size = 5, stride = 1, padding = 0)\n",
    "        self.ac1 = nn.ReLU() #One image object in (N,C,H,W). (N,1,28,28) to (N,hidden_layer[0],24,24)\n",
    "        self.pool1 = nn.MaxPool2d(kernel_size=2) #(N,hidden_layer[0],24,24) to (N,hidden_layer[0],12,12)\n",
    "        \n",
    "        # Second convolutional layer:\n",
    "        self.conv2 = nn.Conv2d(in_channels= hidden_layer[0], out_channels = hidden_layer[1], kernel_size = 3, stride = 1, padding = 0)\n",
    "        self.ac2 = nn.ReLU()#(N,hidden_layer[0],12,12) to (N,hidden_layer[1],10,10)\n",
    "        self.pool2 = nn.MaxPool2d(kernel_size=2) #(N,hidden_layer[0],10,10) to (N,hidden_layer[0],5,5)\n",
    "        \n",
    "        # Third convolutional layer:\n",
    "        self.conv3 = nn.Conv2d(in_channels= hidden_layer[1], out_channels = hidden_layer[2], kernel_size = 2, stride = 1, padding = 0)\n",
    "        self.ac3 = nn.ReLU()#(N,hidden_layer[0],5,5) to (N,hidden_layer[1],4,4)\n",
    "        self.pool3 = nn.MaxPool2d(kernel_size=2) #(N,hidden_layer[0],4,4) to (N,hidden_layer[0],2,2)\n",
    "        \n",
    "        #Final Layer\n",
    "        self.f = nn.Linear(hidden_layer[2]*2*2,hidden_layer[3])\n",
    "        self.fac = nn.Sigmoid()\n",
    "        self.f1 = nn.Linear(hidden_layer[3],output_dim)\n",
    "        \n",
    "        \n",
    "    \n",
    "    def forward(self, x):\n",
    "        out = self.conv1(x)\n",
    "        out = self.ac1(out)\n",
    "        out = self.pool1(out)\n",
    "        out = self.conv2(out)\n",
    "        out = self.ac2(out)\n",
    "        out = self.pool2(out)\n",
    "        out = self.conv3(out)\n",
    "        out = self.ac3(out)\n",
    "        out = self.pool3(out)\n",
    "        out = out.view(out.size(0),-1) # Don't forget to flatten before the final linear transformation.\n",
    "        out = self.f(out) #The logistic transformation is on the loss function.\n",
    "        out = self.fac(out)\n",
    "        out = self.f1(out) #The logistic transformation is on the loss function.\n",
    "        return out\n",
    "    \n",
    "    \n",
    "    # Create ANN\n",
    "model = conVolNN([32,32,16,200],targetsSize)\n",
    "\n",
    "# Cross Entropy Loss \n",
    "error = nn.CrossEntropyLoss()\n",
    "\n",
    "# SGD Optimizer\n",
    "learning_rate = 0.1\n",
    "optimizer = torch.optim.SGD(model.parameters(), lr=learning_rate)\n",
    "\n",
    "count = 0\n",
    "loss_list = []\n",
    "iteration_list = []\n",
    "accuracy_list = []\n"
   ]
  },
  {
   "cell_type": "code",
   "execution_count": 30,
   "metadata": {},
   "outputs": [
    {
     "ename": "RuntimeError",
     "evalue": "shape '[500, 1, 28, 28]' is invalid for input of size 313600",
     "output_type": "error",
     "traceback": [
      "\u001b[0;31m---------------------------------------------------------------------------\u001b[0m",
      "\u001b[0;31mRuntimeError\u001b[0m                              Traceback (most recent call last)",
      "\u001b[0;32m<ipython-input-30-15a4a246c7cc>\u001b[0m in \u001b[0;36m<module>\u001b[0;34m\u001b[0m\n\u001b[1;32m     28\u001b[0m             \u001b[0;32mfor\u001b[0m \u001b[0mimages\u001b[0m\u001b[0;34m,\u001b[0m \u001b[0mlabels\u001b[0m \u001b[0;32min\u001b[0m \u001b[0mtest_loader\u001b[0m\u001b[0;34m:\u001b[0m\u001b[0;34m\u001b[0m\u001b[0;34m\u001b[0m\u001b[0m\n\u001b[1;32m     29\u001b[0m \u001b[0;34m\u001b[0m\u001b[0m\n\u001b[0;32m---> 30\u001b[0;31m                 \u001b[0mtest\u001b[0m \u001b[0;34m=\u001b[0m \u001b[0mVariable\u001b[0m\u001b[0;34m(\u001b[0m\u001b[0mimages\u001b[0m\u001b[0;34m.\u001b[0m\u001b[0mview\u001b[0m\u001b[0;34m(\u001b[0m\u001b[0mbatch_size\u001b[0m\u001b[0;34m,\u001b[0m\u001b[0;36m1\u001b[0m\u001b[0;34m,\u001b[0m\u001b[0;36m28\u001b[0m\u001b[0;34m,\u001b[0m\u001b[0;36m28\u001b[0m\u001b[0;34m)\u001b[0m\u001b[0;34m)\u001b[0m\u001b[0;34m\u001b[0m\u001b[0;34m\u001b[0m\u001b[0m\n\u001b[0m\u001b[1;32m     31\u001b[0m \u001b[0;34m\u001b[0m\u001b[0m\n\u001b[1;32m     32\u001b[0m                 \u001b[0;31m# Forward propagation\u001b[0m\u001b[0;34m\u001b[0m\u001b[0;34m\u001b[0m\u001b[0;34m\u001b[0m\u001b[0m\n",
      "\u001b[0;31mRuntimeError\u001b[0m: shape '[500, 1, 28, 28]' is invalid for input of size 313600"
     ]
    }
   ],
   "source": [
    "\n",
    "for epoch in range(num_epochs):\n",
    "    for i, (images, labels) in enumerate(train_loader):\n",
    "        \n",
    "        train = Variable(images.view(batch_size,1,28,28))\n",
    "        labels = Variable(labels)\n",
    "        \n",
    "        # Clear gradients\n",
    "        optimizer.zero_grad()\n",
    "        \n",
    "        # Forward propagation\n",
    "        outputs = model(train)\n",
    "        \n",
    "        # Calculate softmax and ross entropy loss\n",
    "        loss = error(outputs, labels)\n",
    "        \n",
    "        # Calculating gradients\n",
    "        loss.backward()\n",
    "        \n",
    "        # Update parameters\n",
    "        optimizer.step()\n",
    "        count += 1\n",
    "        if count % 50 == 0:\n",
    "            # Calculate Accuracy         \n",
    "            correct = 0\n",
    "            total = 0\n",
    "            # Iterate through test dataset\n",
    "            for images, labels in test_loader:\n",
    "                \n",
    "                test = Variable(images.view(batch_size,1,28,28))\n",
    "                \n",
    "                # Forward propagation\n",
    "                outputs = model(test)\n",
    "                \n",
    "                # Get predictions from the maximum value\n",
    "                predicted = torch.max(outputs.data, 1)[1]\n",
    "                \n",
    "                # Total number of labels\n",
    "                total += len(labels)\n",
    "                \n",
    "                correct += (predicted == labels).sum()\n",
    "            \n",
    "            accuracy = 100 * correct / float(total)\n",
    "            \n",
    "            # store loss and iteration\n",
    "            loss_list.append(loss.data)\n",
    "            iteration_list.append(count)\n",
    "            accuracy_list.append(accuracy)\n",
    "            if (count) % 500 == 0:\n",
    "                # Print Loss\n",
    "                print('Iteration: {}  Loss: {}  Accuracy: {} %'.format(count+1, loss.item(), accuracy))"
   ]
  },
  {
   "cell_type": "code",
   "execution_count": null,
   "metadata": {},
   "outputs": [],
   "source": []
  }
 ],
 "metadata": {
  "kernelspec": {
   "display_name": "Python 3",
   "language": "python",
   "name": "python3"
  },
  "language_info": {
   "codemirror_mode": {
    "name": "ipython",
    "version": 3
   },
   "file_extension": ".py",
   "mimetype": "text/x-python",
   "name": "python",
   "nbconvert_exporter": "python",
   "pygments_lexer": "ipython3",
   "version": "3.7.3"
  }
 },
 "nbformat": 4,
 "nbformat_minor": 2
}
